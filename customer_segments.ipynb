{
 "cells": [
  {
   "cell_type": "markdown",
   "metadata": {},
   "source": [
    "# Creating Customer Segments"
   ]
  },
  {
   "cell_type": "markdown",
   "metadata": {},
   "source": [
    "In this project you, will analyze a dataset containing annual spending amounts for internal structure, to understand the variation in the different types of customers that a wholesale distributor interacts with.\n",
    "\n",
    "Instructions:\n",
    "\n",
    "- Run each code block below by pressing **Shift+Enter**, making sure to implement any steps marked with a TODO.\n",
    "- Answer each question in the space provided by editing the blocks labeled \"Answer:\".\n",
    "- When you are done, submit the completed notebook (.ipynb) with all code blocks executed, as well as a .pdf version (File > Download as)."
   ]
  },
  {
   "cell_type": "code",
   "execution_count": 22,
   "metadata": {
    "collapsed": false
   },
   "outputs": [
    {
     "name": "stdout",
     "output_type": "stream",
     "text": [
      "Dataset has 440 rows, 6 columns\n",
      "   Fresh  Milk  Grocery  Frozen  Detergents_Paper  Delicatessen\n",
      "0  12669  9656     7561     214              2674          1338\n",
      "1   7057  9810     9568    1762              3293          1776\n",
      "2   6353  8808     7684    2405              3516          7844\n",
      "3  13265  1196     4221    6404               507          1788\n",
      "4  22615  5410     7198    3915              1777          5185\n"
     ]
    }
   ],
   "source": [
    "# Import libraries: NumPy, pandas, matplotlib\n",
    "import numpy as np\n",
    "import pandas as pd\n",
    "import matplotlib.pyplot as plt\n",
    "import warnings\n",
    "warnings.filterwarnings('ignore')\n",
    "\n",
    "# Tell iPython to include plots inline in the notebook\n",
    "%matplotlib inline\n",
    "\n",
    "# Read dataset\n",
    "data = pd.read_csv(\"wholesale-customers.csv\")\n",
    "print (\"Dataset has {} rows, {} columns\".format(*data.shape))\n",
    "print (data.head())  # print the first 5 rows"
   ]
  },
  {
   "cell_type": "markdown",
   "metadata": {},
   "source": [
    "##Feature Transformation"
   ]
  },
  {
   "cell_type": "markdown",
   "metadata": {},
   "source": [
    "**1)** In this section you will be using PCA and ICA to start to understand the structure of the data. Before doing any computations, what do you think will show up in your computations? List one or two ideas for what might show up as the first PCA dimensions, or what type of vectors will show up as ICA dimensions."
   ]
  },
  {
   "cell_type": "markdown",
   "metadata": {},
   "source": [
    "Answer: We will acquire tranform matrices for both PCA and ICA that will map the original dimension of data to a new coordinate that captures the variance in ascending order for PCA and mutually independent space for ICA.\n",
    "The first dimension of the PCA will capture the highest variation in the data. Based on the read.md file, the highest variation is in the fresh products; thus I would expect the highest contribution from fresh product and the contribution from other features proportional to their variance. \n",
    "ICA generates independent components thus I would expect mutually exculusive compoenents for ICA output. It will tranform the data into independent features that contruct the actual observation. Each ICA components will represent one property of the collected data that is not covered by other components. These will be hidden factors that lie behind the original observation set. For instance, ICA does assume that fresh feature is composed of combination of 6 different hidden features with certain weights, and the same hidden features also contruct the milk feature with different weights in their combination"
   ]
  },
  {
   "cell_type": "markdown",
   "metadata": {},
   "source": [
    "###PCA"
   ]
  },
  {
   "cell_type": "code",
   "execution_count": 2,
   "metadata": {
    "collapsed": false
   },
   "outputs": [
    {
     "name": "stdout",
     "output_type": "stream",
     "text": [
      "PCA Components:\n",
      "[[-0.97653685 -0.12118407 -0.06154039 -0.15236462  0.00705417 -0.06810471]\n",
      " [-0.11061386  0.51580216  0.76460638 -0.01872345  0.36535076  0.05707921]\n",
      " [-0.17855726  0.50988675 -0.27578088  0.71420037 -0.20440987  0.28321747]\n",
      " [-0.04187648 -0.64564047  0.37546049  0.64629232  0.14938013 -0.02039579]\n",
      " [ 0.015986    0.20323566 -0.1602915   0.22018612  0.20793016 -0.91707659]\n",
      " [-0.01576316  0.03349187  0.41093894 -0.01328898 -0.87128428 -0.26541687]]\n",
      "PCA Explained Variance:\n",
      "[ 0.45961362  0.40517227  0.07003008  0.04402344  0.01502212  0.00613848]\n"
     ]
    },
    {
     "name": "stderr",
     "output_type": "stream",
     "text": [
      "C:\\Users\\yemre\\AppData\\Local\\Continuum\\Anaconda3\\lib\\site-packages\\sklearn\\utils\\fixes.py:64: DeprecationWarning: inspect.getargspec() is deprecated, use inspect.signature() instead\n",
      "  if 'order' in inspect.getargspec(np.copy)[0]:\n"
     ]
    }
   ],
   "source": [
    "# TODO: Apply PCA with the same number of dimensions as variables in the dataset\n",
    "from sklearn.decomposition import PCA\n",
    "pca = PCA(n_components=data.shape[1])\n",
    "pca.fit(data)\n",
    "\n",
    "# Print the components and the amount of variance in the data contained in each dimension\n",
    "print(\"PCA Components:\")\n",
    "print (pca.components_)\n",
    "print(\"PCA Explained Variance:\")\n",
    "print (pca.explained_variance_ratio_)"
   ]
  },
  {
   "cell_type": "markdown",
   "metadata": {},
   "source": [
    "**2)** How quickly does the variance drop off by dimension? If you were to use PCA on this dataset, how many dimensions would you choose for your analysis? Why?"
   ]
  },
  {
   "cell_type": "markdown",
   "metadata": {
    "collapsed": true
   },
   "source": [
    "Answer:  Variance is high for the first two compoenents and it does drop immediately after. I would use the first two dimension after PCA that captures approximately 96% of the power. The 86% comes from the sum of variances for the first and second PCA components as 0.46+0.40=0.86."
   ]
  },
  {
   "cell_type": "markdown",
   "metadata": {},
   "source": [
    "**3)** What do the dimensions seem to represent? How can you use this information?"
   ]
  },
  {
   "cell_type": "markdown",
   "metadata": {
    "collapsed": true
   },
   "source": [
    "Answer: Each dimension represents linear combination of the features in the new vector space where new features are orthogonal to each other. They capture the variance of the original data in ascending order. Based on their value, I can say that feature-1 (fresh products) is the most representative of the variance, while combination of feature-2 and 3 (milk and grocery) comes after. \n",
    "\n",
    "Even though it is not required, if I have to use a single feature from original data space, I would use Fresh feature since its weight in the first PCA vector ( which is [-0.97653685 -0.12118407 -0.06154039 -0.15236462  0.00705417 -0.06810471] )is the highest. I know there is no requirement for such a selection, but I can interpret this notion from the results. I know that PCA transforms the original feature set to a new set which is combination of all original feature elements, but it weights each original factor with different value, and if a relative weight of an original feature is considerably higher than another, one can say that this feature captures more variance. \n",
    "For an extreme case, you can consider a PCA vector with [1 0 0 0 0 0] with sigma value of 0.5. This means that the very first feature of the original data set does capture the 50% of the variance of the system.\n",
    "\n",
    "The main advantage of PCA transformation is the reduction in dimentionality. With the first two PCA vectors we can tranform the original data into smaller dimension while keeping the most of the original variance. This will reduce the effect of \"curse of dimentionality\" and also overfitting of the data. For instance, if we use the first two vectors for the PCA transform, then the transformed data will have only 2 dimension instead of 6. This will reduce the complexity of the clustering or classification algorithm that is used afterwards. "
   ]
  },
  {
   "cell_type": "markdown",
   "metadata": {},
   "source": [
    "###ICA"
   ]
  },
  {
   "cell_type": "code",
   "execution_count": 24,
   "metadata": {
    "collapsed": false
   },
   "outputs": [
    {
     "name": "stdout",
     "output_type": "stream",
     "text": [
      "      Fresh      Milk   Grocery    Frozen  Detergents_Paper  Delicatessen\n",
      "0  0.052933  0.523568 -0.041115 -0.589367         -0.043569     -0.066339\n",
      "1 -0.391302  0.544458  0.170318 -0.270136          0.086407      0.089151\n",
      "2 -0.447029  0.408538 -0.028157 -0.137536          0.133232      2.243293\n",
      "3  0.100111 -0.624020 -0.392977  0.687144         -0.498588      0.093411\n",
      "4  0.840239 -0.052396 -0.079356  0.173859         -0.231918      1.299347\n",
      "5 -0.204806  0.334067 -0.297637 -0.496155         -0.228138     -0.026224\n",
      "6  0.009950 -0.352316 -0.102849 -0.534512          0.054280     -0.347854\n",
      "7 -0.349981 -0.113981  0.155359 -0.289315          0.092286      0.369601\n",
      "8 -0.477901 -0.291409 -0.185336 -0.545854         -0.244726     -0.275079\n",
      "9 -0.474497  0.718495  1.151423 -0.394488          0.954031      0.203461\n",
      "Fresh              -4.895074e-17\n",
      "Milk               -1.110223e-17\n",
      "Grocery            -6.181924e-17\n",
      "Frozen              1.211152e-17\n",
      "Detergents_Paper    1.236385e-17\n",
      "Delicatessen       -9.613522e-17\n",
      "dtype: float64\n",
      "ICA Components:\n",
      "[[-0.00193608  0.01093135  0.00488068 -0.00381119  0.05022495 -0.00267403]\n",
      " [-0.07259357  0.00103292  0.00161823  0.01687991 -0.00631957  0.01399257]\n",
      " [ 0.05509711 -0.00735165  0.00571428  0.11490338 -0.0058304  -0.06024154]\n",
      " [ 0.00176924 -0.05404891  0.00253163 -0.0070804  -0.00328919 -0.00204365]\n",
      " [-0.0157106   0.00265246 -0.00243475 -0.13437099  0.00971295  0.00296706]\n",
      " [ 0.01707097  0.01676786 -0.05096615 -0.01615565 -0.00295449  0.00398868]]\n",
      "ICA Mixing Matrix:\n",
      "[[ -1.53770071e+00  -1.64546719e+00  -2.80343485e+00   1.68113949e+00\n",
      "    2.05955273e+01  -2.58245379e-01]\n",
      " [ -1.57960230e+01  -5.96284652e-01  -6.92462074e+00   1.67777270e+00\n",
      "   -3.07219426e-01  -1.18012890e+01]\n",
      " [ -3.89053872e+00   5.90379602e-01  -2.63619114e+00  -1.64750522e-02\n",
      "   -1.10988836e+00  -2.04042528e+01]\n",
      " [ -6.05388315e-01  -1.92006798e+01  -6.78220915e+00   1.90618478e-01\n",
      "    4.88439596e+00   1.03700569e+00]\n",
      " [ -5.13109288e+00   1.62562178e+00  -1.94568548e-01  -7.37215340e+00\n",
      "   -2.09138977e+00  -1.87688259e+01]\n",
      " [ -8.69950377e-01  -1.14172513e+00  -2.07323613e+01   5.74065102e-01\n",
      "    2.18062846e+00  -1.73900929e+00]]\n"
     ]
    }
   ],
   "source": [
    "# TODO: Fit an ICA model to the data\n",
    "# Note: Adjust the data to have center at the origin first!\n",
    "from sklearn.decomposition import FastICA\n",
    "ica = FastICA(n_components=data.shape[1],whiten=True)\n",
    "data_ica = data - np.mean(data,axis=0)\n",
    "data_ica /=  np.std(data_ica,axis=0)\n",
    "print(data_ica[0:10])\n",
    "print(np.mean(data_ica,axis=0))\n",
    "ica.fit(data_ica)\n",
    "\n",
    "# Print the independent components\n",
    "print(\"ICA Components:\")\n",
    "print (\"{}\".format(ica.components_.T))\n",
    "print(\"ICA Mixing Matrix:\")\n",
    "print (\"{}\".format(ica.mixing_))"
   ]
  },
  {
   "cell_type": "markdown",
   "metadata": {},
   "source": [
    "**4)** For each vector in the ICA decomposition, write a sentence or two explaining what sort of object or property it corresponds to. What could these components be used for?"
   ]
  },
  {
   "cell_type": "markdown",
   "metadata": {
    "collapsed": true
   },
   "source": [
    "Answer: Components matrix shows the unmixing matrix that can be used to map each feature to independent dimension, while ica.mixing shows the mixing matrix of these features and these two are inverse of each other. \n",
    "\n",
    "Corresponding unmixing weights of the first hidden feature are  [-0.00193608  0.01093135  0.00488068 -0.00381119  0.05022495 -0.00267403], it looks like contribution of the feature-4(Detergant) dominates the unmixing operation. Thus, it is likely to be an independent feature by itself. \n",
    "\n",
    "Corresponding unmixing weights of the second hidden feature are [-0.07259357  0.00103292  0.00161823  0.01687991 -0.00631957  0.01399257], this one is dominated by component-0 and 3 and 5 (fresh , grocer and delicatessen). component-3 and 5 have the same sign; so it looks like their contribution to this independent component are at the same direction while component-0 has opposite sign. Component-0 has the highest value and hence it is dominant in this transform.\n",
    "\n",
    "Corresponding unmixing weights of the third hidden feature are [0.05509711 -0.00735165  0.00571428  0.11490338 -0.0058304  -0.06024154] , the contribution of component0, component3 and component5 dominates this tranform and the signs of compoenent 0 and 3 are same while compoenent-5 is opposite. \n",
    "\n",
    "Corresponding unmixing weights of the fourth hidden feature are [0.00176924 -0.05404891  0.00253163 -0.0070804  -0.00328919 -0.00204365] , the contribution of component1 domites this tranform. Thus, it is likely to be an independent feature by itself.  \n",
    "\n",
    "These compoenents are used to transform data into independent components that represent hidden features. We can matrix multiply the original data with the compoenent matrix and achieve independent features. This becomes usefull to identify the latent features that may contruct the observed results. \n",
    "\n",
    "Different combinations of the hidden/latent featues construct the observable set. For instance, fresh, milk, grocery can be decomposed into solid, expensive, resuable, flammable etc. (feature which construct the observations but independent) and the component matrix map the obsevation set to the new independent feature set.\n",
    "\n",
    "We can remove the multicollinearity from data by mapping an observation to this new independent feature set where each feature will provide a distinct/independent information from data. \n"
   ]
  },
  {
   "cell_type": "markdown",
   "metadata": {},
   "source": [
    "##Clustering\n",
    "\n",
    "In this section you will choose either K Means clustering or Gaussian Mixed Models clustering, which implements expectation-maximization. Then you will sample elements from the clusters to understand their significance."
   ]
  },
  {
   "cell_type": "markdown",
   "metadata": {},
   "source": [
    "###Choose a Cluster Type\n",
    "\n",
    "**5)** What are the advantages of using K Means clustering or Gaussian Mixture Models?"
   ]
  },
  {
   "cell_type": "markdown",
   "metadata": {},
   "source": [
    "Answer: For small K value, K-means runs fast compared to hierarchical clustering, but as dimension increases it sees the effect of curse of dimentionality and its computational cost increases. GMM is typically fast algorithm but it may see singularity problem. \n",
    "\n",
    "Gaussian mixture model assumes that the underlying features have Gaussian behaviour, which may or may not be true. In our case, it is not easy to make such assumption about the data. I have plot the histograms of reduced data set for below and saw that the distribution does not fit a Gaussian very well (I have plot the reduced set since we will apply Kmeans or GMM on to the reduced data set). On the other hand, Kmeans is more general which can be applied to both Gaussian and non-Gaussian behaving data; thus I have picked Kmeans. (I have also piece of code below that looks at GMM)."
   ]
  },
  {
   "cell_type": "markdown",
   "metadata": {},
   "source": [
    "**6)** Below is some starter code to help you visualize some cluster data. The visualization is based on [this demo](http://scikit-learn.org/stable/auto_examples/cluster/plot_kmeans_digits.html) from the sklearn documentation."
   ]
  },
  {
   "cell_type": "code",
   "execution_count": 14,
   "metadata": {
    "collapsed": true
   },
   "outputs": [],
   "source": [
    "# Import clustering modules\n",
    "from sklearn.cluster import KMeans\n",
    "from sklearn.mixture import GMM"
   ]
  },
  {
   "cell_type": "code",
   "execution_count": 15,
   "metadata": {
    "collapsed": false
   },
   "outputs": [
    {
     "name": "stdout",
     "output_type": "stream",
     "text": [
      "[[  -650.02212207   1585.51909007]\n",
      " [  4426.80497937   4042.45150884]\n",
      " [  4841.9987068    2578.762176  ]\n",
      " [  -990.34643689  -6279.80599663]\n",
      " [-10657.99873116  -2159.72581518]\n",
      " [  2765.96159271   -959.87072713]\n",
      " [   715.55089221  -2013.00226567]\n",
      " [  4474.58366697   1429.49697204]\n",
      " [  6712.09539718  -2205.90915598]\n",
      " [  4823.63435407  13480.55920489]]\n"
     ]
    },
    {
     "data": {
      "image/png": "[encoded data removed]",
      "text/plain": [
       "<matplotlib.figure.Figure at 0x716346d550>"
      ]
     },
     "metadata": {},
     "output_type": "display_data"
    }
   ],
   "source": [
    "# TODO: First we reduce the data to two dimensions using PCA to capture variation\n",
    "reduced_data_full = pca.transform(data)\n",
    "reduced_data = reduced_data_full[:,0:2]\n",
    "print (reduced_data[:10])  # print upto 10 elements\n",
    "plt.hist(reduced_data[:,0])\n",
    "plt.hist(reduced_data[:,1],alpha=0.4)\n",
    "plt.title(\"Histogram of Features in Reduced Data Set\")\n",
    "plt.show()"
   ]
  },
  {
   "cell_type": "code",
   "execution_count": 16,
   "metadata": {
    "collapsed": false
   },
   "outputs": [
    {
     "name": "stdout",
     "output_type": "stream",
     "text": [
      "KMeans(copy_x=True, init='k-means++', max_iter=300, n_clusters=3, n_init=10,\n",
      "    n_jobs=1, precompute_distances='auto', random_state=None, tol=0.0001,\n",
      "    verbose=0)\n"
     ]
    },
    {
     "name": "stderr",
     "output_type": "stream",
     "text": [
      "C:\\Users\\yemre\\AppData\\Local\\Continuum\\Anaconda3\\lib\\site-packages\\sklearn\\base.py:175: DeprecationWarning: inspect.getargspec() is deprecated, use inspect.signature() instead\n",
      "  args, varargs, kw, default = inspect.getargspec(init)\n"
     ]
    }
   ],
   "source": [
    "# TODO: Implement your clustering algorithm here, and fit it to the reduced data for visualization\n",
    "# The visualizer below assumes your clustering object is named 'clusters'\n",
    "\n",
    "isKmeans= True\n",
    "\n",
    "if (isKmeans==True):\n",
    "    clusters = KMeans(n_clusters=3)\n",
    "    clusters.fit(reduced_data)\n",
    "    print (clusters)\n",
    "else:\n",
    "    clusters = GMM(n_components=3, covariance_type='full')\n",
    "    clusters.fit(reduced_data)\n",
    "    print (clusters)"
   ]
  },
  {
   "cell_type": "code",
   "execution_count": 17,
   "metadata": {
    "collapsed": false
   },
   "outputs": [],
   "source": [
    "# Plot the decision boundary by building a mesh grid to populate a graph.\n",
    "x_min, x_max = reduced_data[:, 0].min() - 1, reduced_data[:, 0].max() + 1\n",
    "y_min, y_max = reduced_data[:, 1].min() - 1, reduced_data[:, 1].max() + 1\n",
    "hx = (x_max-x_min)/1000.\n",
    "hy = (y_max-y_min)/1000.\n",
    "xx, yy = np.meshgrid(np.arange(x_min, x_max, hx), np.arange(y_min, y_max, hy))\n",
    "\n",
    "# Obtain labels for each point in mesh. Use last trained model.\n",
    "Z = clusters.predict(np.c_[xx.ravel(), yy.ravel()])"
   ]
  },
  {
   "cell_type": "code",
   "execution_count": 19,
   "metadata": {
    "collapsed": false
   },
   "outputs": [
    {
     "name": "stdout",
     "output_type": "stream",
     "text": [
      "[[-24220.71188261  -4364.45560022]\n",
      " [  4114.95375632  -3081.03219608]\n",
      " [  1339.44615464  25546.49074629]]\n",
      "   Fresh   Milk  Grocery  Frozen  Detergents_Paper  Delicatessen\n",
      "0  12669   9656     7561     214              2674          1338\n",
      "1   7057   9810     9568    1762              3293          1776\n",
      "2   6353   8808     7684    2405              3516          7844\n",
      "3  13265   1196     4221    6404               507          1788\n",
      "4  22615   5410     7198    3915              1777          5185\n",
      "5   9413   8259     5126     666              1795          1451\n",
      "6  12126   3199     6975     480              3140           545\n",
      "7   7579   4956     9426    1669              3321          2566\n",
      "8   5963   3648     6192     425              1716           750\n",
      "9   6006  11093    18881    1159              7425          2098 [1 1 1 1 0 1 1 1 1 2]\n"
     ]
    },
    {
     "data": {
      "image/png": "[encoded data removed]",
      "text/plain": [
       "<matplotlib.figure.Figure at 0x7163a28550>"
      ]
     },
     "metadata": {},
     "output_type": "display_data"
    },
    {
     "data": {
      "image/png": "[encoded data removed]",
      "text/plain": [
       "<matplotlib.figure.Figure at 0x7163cc24a8>"
      ]
     },
     "metadata": {},
     "output_type": "display_data"
    },
    {
     "data": {
      "image/png": "[encoded data removed]",
      "text/plain": [
       "<matplotlib.figure.Figure at 0x7163b70198>"
      ]
     },
     "metadata": {},
     "output_type": "display_data"
    }
   ],
   "source": [
    "# TODO: Find the centroids for KMeans or the cluster means for GMM \n",
    "\n",
    "if (isKmeans==True):\n",
    "    centroids = clusters.cluster_centers_\n",
    "    print (centroids)\n",
    "    print(data[0:10] ,clusters.labels_[0:10])\n",
    "    \n",
    "    plt.hist(clusters.labels_)\n",
    "    plt.title('Distribution of Clusters')\n",
    "    plt.show()\n",
    "    \n",
    "    cluster_0 = data[clusters.labels_==0]\n",
    "    cluster_1 = data[clusters.labels_==1]\n",
    "    cluster_2 = data[clusters.labels_==2]\n",
    "    plt.hist(cluster_0['Fresh'].values)\n",
    "    plt.hist(cluster_1['Fresh'].values)\n",
    "    plt.hist(cluster_2['Fresh'].values)\n",
    "    plt.title('The distintive behaviour of Fresh Value between all clusters')\n",
    "    plt.show()\n",
    "    plt.hist(cluster_0['Grocery'].values+cluster_0['Milk'].values)\n",
    "    plt.hist(cluster_2['Grocery'].values+cluster_2['Milk'].values,color='r')\n",
    "    plt.title('The distintive behaviour of Grocery and Milk Value between first and second clusters')\n",
    "\n",
    "    plt.show()\n",
    "else:\n",
    "    centroids = clusters.means_\n",
    "    print (centroids)"
   ]
  },
  {
   "cell_type": "code",
   "execution_count": 20,
   "metadata": {
    "collapsed": false
   },
   "outputs": [
    {
     "name": "stderr",
     "output_type": "stream",
     "text": [
      "C:\\Users\\yemre\\AppData\\Local\\Continuum\\Anaconda3\\lib\\site-packages\\sklearn\\base.py:175: DeprecationWarning: inspect.getargspec() is deprecated, use inspect.signature() instead\n",
      "  args, varargs, kw, default = inspect.getargspec(init)\n",
      "C:\\Users\\yemre\\AppData\\Local\\Continuum\\Anaconda3\\lib\\site-packages\\matplotlib\\collections.py:590: FutureWarning: elementwise comparison failed; returning scalar instead, but in the future will perform elementwise comparison\n",
      "  if self._edgecolors == str('face'):\n"
     ]
    },
    {
     "name": "stdout",
     "output_type": "stream",
     "text": [
      "KMeans(copy_x=True, init='k-means++', max_iter=300, n_clusters=2, n_init=10,\n",
      "    n_jobs=1, precompute_distances='auto', random_state=None, tol=0.0001,\n",
      "    verbose=0)\n"
     ]
    },
    {
     "data": {
      "image/png": "[encoded data removed]",
      "text/plain": [
       "<matplotlib.figure.Figure at 0x7162889940>"
      ]
     },
     "metadata": {},
     "output_type": "display_data"
    },
    {
     "name": "stderr",
     "output_type": "stream",
     "text": [
      "C:\\Users\\yemre\\AppData\\Local\\Continuum\\Anaconda3\\lib\\site-packages\\sklearn\\base.py:175: DeprecationWarning: inspect.getargspec() is deprecated, use inspect.signature() instead\n",
      "  args, varargs, kw, default = inspect.getargspec(init)\n",
      "C:\\Users\\yemre\\AppData\\Local\\Continuum\\Anaconda3\\lib\\site-packages\\matplotlib\\collections.py:590: FutureWarning: elementwise comparison failed; returning scalar instead, but in the future will perform elementwise comparison\n",
      "  if self._edgecolors == str('face'):\n"
     ]
    },
    {
     "name": "stdout",
     "output_type": "stream",
     "text": [
      "KMeans(copy_x=True, init='k-means++', max_iter=300, n_clusters=3, n_init=10,\n",
      "    n_jobs=1, precompute_distances='auto', random_state=None, tol=0.0001,\n",
      "    verbose=0)\n"
     ]
    },
    {
     "data": {
      "image/png": "[encoded data removed]",
      "text/plain": [
       "<matplotlib.figure.Figure at 0x7162889908>"
      ]
     },
     "metadata": {},
     "output_type": "display_data"
    },
    {
     "name": "stderr",
     "output_type": "stream",
     "text": [
      "C:\\Users\\yemre\\AppData\\Local\\Continuum\\Anaconda3\\lib\\site-packages\\sklearn\\base.py:175: DeprecationWarning: inspect.getargspec() is deprecated, use inspect.signature() instead\n",
      "  args, varargs, kw, default = inspect.getargspec(init)\n",
      "C:\\Users\\yemre\\AppData\\Local\\Continuum\\Anaconda3\\lib\\site-packages\\matplotlib\\collections.py:590: FutureWarning: elementwise comparison failed; returning scalar instead, but in the future will perform elementwise comparison\n",
      "  if self._edgecolors == str('face'):\n"
     ]
    },
    {
     "name": "stdout",
     "output_type": "stream",
     "text": [
      "KMeans(copy_x=True, init='k-means++', max_iter=300, n_clusters=4, n_init=10,\n",
      "    n_jobs=1, precompute_distances='auto', random_state=None, tol=0.0001,\n",
      "    verbose=0)\n"
     ]
    },
    {
     "data": {
      "image/png": "[encoded data removed]",
      "text/plain": [
       "<matplotlib.figure.Figure at 0x7162892f28>"
      ]
     },
     "metadata": {},
     "output_type": "display_data"
    },
    {
     "name": "stderr",
     "output_type": "stream",
     "text": [
      "C:\\Users\\yemre\\AppData\\Local\\Continuum\\Anaconda3\\lib\\site-packages\\sklearn\\base.py:175: DeprecationWarning: inspect.getargspec() is deprecated, use inspect.signature() instead\n",
      "  args, varargs, kw, default = inspect.getargspec(init)\n",
      "C:\\Users\\yemre\\AppData\\Local\\Continuum\\Anaconda3\\lib\\site-packages\\matplotlib\\collections.py:590: FutureWarning: elementwise comparison failed; returning scalar instead, but in the future will perform elementwise comparison\n",
      "  if self._edgecolors == str('face'):\n"
     ]
    },
    {
     "name": "stdout",
     "output_type": "stream",
     "text": [
      "KMeans(copy_x=True, init='k-means++', max_iter=300, n_clusters=5, n_init=10,\n",
      "    n_jobs=1, precompute_distances='auto', random_state=None, tol=0.0001,\n",
      "    verbose=0)\n"
     ]
    },
    {
     "data": {
      "image/png": "[encoded data removed]",
      "text/plain": [
       "<matplotlib.figure.Figure at 0x7162892908>"
      ]
     },
     "metadata": {},
     "output_type": "display_data"
    },
    {
     "name": "stderr",
     "output_type": "stream",
     "text": [
      "C:\\Users\\yemre\\AppData\\Local\\Continuum\\Anaconda3\\lib\\site-packages\\sklearn\\base.py:175: DeprecationWarning: inspect.getargspec() is deprecated, use inspect.signature() instead\n",
      "  args, varargs, kw, default = inspect.getargspec(init)\n",
      "C:\\Users\\yemre\\AppData\\Local\\Continuum\\Anaconda3\\lib\\site-packages\\matplotlib\\collections.py:590: FutureWarning: elementwise comparison failed; returning scalar instead, but in the future will perform elementwise comparison\n",
      "  if self._edgecolors == str('face'):\n"
     ]
    },
    {
     "name": "stdout",
     "output_type": "stream",
     "text": [
      "KMeans(copy_x=True, init='k-means++', max_iter=300, n_clusters=6, n_init=10,\n",
      "    n_jobs=1, precompute_distances='auto', random_state=None, tol=0.0001,\n",
      "    verbose=0)\n"
     ]
    },
    {
     "data": {
      "image/png": "[encoded data removed]",
      "text/plain": [
       "<matplotlib.figure.Figure at 0x7163dd2b38>"
      ]
     },
     "metadata": {},
     "output_type": "display_data"
    }
   ],
   "source": [
    "# Put the result into a color plot\n",
    "for n_cls  in range(2,7):\n",
    "    if (isKmeans==True):\n",
    "        clusters = KMeans(n_clusters=n_cls)\n",
    "        clusters.fit(reduced_data)\n",
    "        print (clusters)\n",
    "        centroids = clusters.cluster_centers_\n",
    "        Z = clusters.predict(np.c_[xx.ravel(), yy.ravel()])\n",
    "        \n",
    "        Z = Z.reshape(xx.shape)\n",
    "        plt.figure()\n",
    "        plt.clf()\n",
    "        plt.imshow(Z, interpolation='nearest',\n",
    "                   extent=(xx.min(), xx.max(), yy.min(), yy.max()),\n",
    "                   cmap=plt.cm.Paired,\n",
    "                   aspect='auto', origin='lower')\n",
    "\n",
    "        plt.plot(reduced_data[:, 0], reduced_data[:, 1], 'k.', markersize=2)\n",
    "        plt.scatter(centroids[:, 0], centroids[:, 1],\n",
    "                    marker='x', s=169, linewidths=3,\n",
    "                    color='w', zorder=10)\n",
    "        plt.title('Clustering on the wholesale grocery dataset (PCA-reduced data)\\n'\n",
    "                  'Centroids are marked with white cross')\n",
    "        plt.xlim(x_min, x_max)\n",
    "        plt.ylim(y_min, y_max)\n",
    "        plt.xticks(())\n",
    "        plt.yticks(())\n",
    "        plt.show()\n",
    "        \n",
    "    else:\n",
    "        clusters = GMM(n_components=n_cls, covariance_type='full')\n",
    "        clusters.fit(reduced_data)\n",
    "        print (clusters)\n",
    "        centroids = clusters.means_\n",
    "        Z = clusters.predict(np.c_[xx.ravel(), yy.ravel()])\n",
    "        Z = Z.reshape(xx.shape)\n",
    "        plt.figure()\n",
    "        plt.clf()\n",
    "        plt.imshow(Z, interpolation='nearest',\n",
    "                   extent=(xx.min(), xx.max(), yy.min(), yy.max()),\n",
    "                   cmap=plt.cm.Paired,\n",
    "                   aspect='auto', origin='lower')\n",
    "\n",
    "        plt.plot(reduced_data[:, 0], reduced_data[:, 1], 'k.', markersize=2)\n",
    "        plt.scatter(centroids[:, 0], centroids[:, 1],\n",
    "                    marker='x', s=169, linewidths=3,\n",
    "                    color='w', zorder=10)\n",
    "        plt.title('Clustering on the wholesale grocery dataset (PCA-reduced data)\\n'\n",
    "                  'Centroids are marked with white cross')\n",
    "        plt.xlim(x_min, x_max)\n",
    "        plt.ylim(y_min, y_max)\n",
    "        plt.xticks(())\n",
    "        plt.yticks(())\n",
    "        plt.show()\n"
   ]
  },
  {
   "cell_type": "markdown",
   "metadata": {},
   "source": [
    "**7)** What are the central objects in each cluster? Describe them as customers."
   ]
  },
  {
   "cell_type": "markdown",
   "metadata": {
    "collapsed": true
   },
   "source": [
    "Answer: Each central points represents the characteristics of one set of customers. For this study, the characteristics of each customer means their annual shopping behaviour. For instance, centroid one represents the customers that has certain behaviour of purchase values. Based on the first level analysis, the most distintive factors will be fresh products, milk and grocery. These are highligted in the figure at histogram plots\n",
    "\n",
    "I have used 3 clusters based on my observation of the visualization of the data. It looks like two clusters  case is not able capture the change in one of the dimensions very well as illustrated in the figure above. In the four dimension case, I have not seen a very valuable change from third cluster case and given that increasing the number of clusters too much may end up causing overfitting, I have stopped at 3 clusters.\n",
    "\n",
    "After PCA transform, my expectation is one dimension represents the variation in fresh product and other represents variation in grocery and milk. So, the customers that spends more money on fresh will be in one cluster while those who spend less will be in another (This is illustrated with Histograms). Similarly, the variation in grocery and milk will cause customers to fall into one cluster or another. "
   ]
  },
  {
   "cell_type": "markdown",
   "metadata": {},
   "source": [
    "###Conclusions\n",
    "\n",
    "** 8)** Which of these techniques did you feel gave you the most insight into the data?"
   ]
  },
  {
   "cell_type": "markdown",
   "metadata": {
    "collapsed": true
   },
   "source": [
    "Answer: As asked by the question itself, I have used PCA. I have tried Kmeans algorithm with PCA using only two features in reduced data. It is not easy to interpret the PCA transformed data. One of the reason that I have picked PCA over ICA is that I was trying to capture the variance in original data with smaller number of features. Hence, this is more appropriate for PCA since it uses coveriance of the data to capture the variance in different dimensions. In addition, the main goal of ICA is to change the dimensionality to achieve independent components rather than reducing the dimensionality to capture more variance. \n"
   ]
  },
  {
   "cell_type": "markdown",
   "metadata": {
    "collapsed": true
   },
   "source": [
    "**9)** How would you use that technique to help the company design new experiments?"
   ]
  },
  {
   "cell_type": "markdown",
   "metadata": {},
   "source": [
    "Answer: We can split each group into half and use a single policy change on one group and no change to another. We apply this testing for certain duration and then look at their responses. Which group response shows a better gain (either keeping the policy or changing it), we apply that policy to all the members of that group (cluster). This is basically A/B testing of the policy.   \n",
    "As we have more policy change proposal, we randomly divide each cluster into half and apply the above scheme to see the response and move forward accordinly based on the success of the policy."
   ]
  },
  {
   "cell_type": "markdown",
   "metadata": {},
   "source": [
    "**10)** How would you use that data to help you predict future customer needs?"
   ]
  },
  {
   "cell_type": "markdown",
   "metadata": {},
   "source": [
    "Answer: We can train an SVM classifier using this dataset and its cluster groups as the target values and use this parametric model (SVM) when we see a new customer to determine which cluster it falls into. For any specific policy we apply to the cluster set, we apply it to the new customer. "
   ]
  },
  {
   "cell_type": "code",
   "execution_count": null,
   "metadata": {
    "collapsed": true
   },
   "outputs": [],
   "source": []
  }
 ],
 "metadata": {
  "kernelspec": {
   "display_name": "Python 3",
   "language": "python",
   "name": "python3"
  },
  "language_info": {
   "codemirror_mode": {
    "name": "ipython",
    "version": 3
   },
   "file_extension": ".py",
   "mimetype": "text/x-python",
   "name": "python",
   "nbconvert_exporter": "python",
   "pygments_lexer": "ipython3",
   "version": "3.5.1"
  }
 },
 "nbformat": 4,
 "nbformat_minor": 0
}
